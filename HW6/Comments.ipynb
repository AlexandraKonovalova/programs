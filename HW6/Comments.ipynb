{
 "cells": [
  {
   "cell_type": "code",
   "execution_count": null,
   "metadata": {},
   "outputs": [],
   "source": [
    "import json"
   ]
  },
  {
   "cell_type": "code",
   "execution_count": 30,
   "metadata": {},
   "outputs": [],
   "source": [
    "import re"
   ]
  },
  {
   "cell_type": "code",
   "execution_count": null,
   "metadata": {},
   "outputs": [],
   "source": [
    "import urllib.request  # импортируем модуль\n",
    "\n",
    "posts = ''\n",
    "post_ids = []\n",
    "\n",
    "offsets = [0, 100, 200, 300, 400, 500, 600, 700, 800, 900, 1000]\n",
    "for i in offsets:\n",
    "# вообще значения параметров удобнее хранить в переменных и подставлять в шаблон запроса\n",
    "    req = urllib.request.Request('https://api.vk.com/method/wall.get?owner_id=-46617996&offset=' + str(i) + '&count=100&v=5.92&access_token=12a6d01212a6d01212a6d0128812cf0047112a612a6d0124e0dc2ab83a91a5ff95ad686') \n",
    "\n",
    "# да, так тоже можно, не обязательно делать это с with, как в примере выше\n",
    "    response = urllib.request.urlopen(req) \n",
    "    result = response.read().decode('utf-8')\n",
    "    data = json.loads(result)\n",
    "    for i in range(100):\n",
    "        post_ids.append(data['response']['items'][i]['id'])\n",
    "        posts += data['response']['items'][i]['text'].lower() + ' '"
   ]
  },
  {
   "cell_type": "code",
   "execution_count": null,
   "metadata": {},
   "outputs": [],
   "source": [
    "data"
   ]
  },
  {
   "cell_type": "code",
   "execution_count": null,
   "metadata": {},
   "outputs": [],
   "source": [
    "post_ids[:10]"
   ]
  },
  {
   "cell_type": "code",
   "execution_count": null,
   "metadata": {},
   "outputs": [],
   "source": [
    "comments = ''\n",
    "\n",
    "##for i in post_ids:\n",
    "# вообще значения параметров удобнее хранить в переменных и подставлять в шаблон запроса\n",
    "req = urllib.request.Request('https://api.vk.com/method/wall.getComments?owner_id=-46617996&post_id=549062&count=1000&v=5.92&access_token=12a6d01212a6d01212a6d0128812cf0047112a612a6d0124e0dc2ab83a91a5ff95ad686') \n",
    "\n",
    "#, так тоже можно, не обязательно делать это с with, как в примере выше\n",
    "response = urllib.request.urlopen(req) \n",
    "result = response.read().decode('utf-8')\n",
    "data = json.loads(result)\n",
    "#for i in range(50):\n",
    "    #    try:\n",
    "    #        posts += data['response']['items'][i]['text'].lower() + ' '"
   ]
  },
  {
   "cell_type": "code",
   "execution_count": null,
   "metadata": {},
   "outputs": [],
   "source": [
    "data"
   ]
  },
  {
   "cell_type": "code",
   "execution_count": 2,
   "metadata": {},
   "outputs": [],
   "source": [
    "from pymystem3 import Mystem\n",
    "import os\n",
    "m = Mystem()"
   ]
  },
  {
   "cell_type": "code",
   "execution_count": null,
   "metadata": {},
   "outputs": [],
   "source": [
    "for i in range(1, 200):\n",
    "    path = \".\" + os.sep + \"Vedaworld\" + os.sep + \"plain\"\n",
    "    file = \"%s\\%s.txt\" % (path, str(i))\n",
    "    print(file)\n",
    "    with open(file, 'r', encoding='utf-8') as f:\n",
    "        text = f.read()\n",
    "    text = clean(text)\n",
    "    text = clean_lemmas(text)\n",
    "    path = \".\" + os.sep + \"Vedaworld\" + os.sep + \"lemmatized\"\n",
    "    if not os.path.exists(path):\n",
    "        os.makedirs(path)\n",
    "    file = \"%s\\%s.txt\" % (path, str(i))    \n",
    "    with open(file, 'w', encoding='utf-8') as t:\n",
    "        t.write(''.join(text))"
   ]
  },
  {
   "cell_type": "code",
   "execution_count": null,
   "metadata": {},
   "outputs": [],
   "source": [
    "path = \".\" + os.sep + \"Vedaworld\" + os.sep + \"lemma\"\n",
    "if not os.path.exists(path):\n",
    "    os.makedirs(path)\n",
    "file = \"%s\\\\%s.txt\" % (path, str(len(os.listdir(path))+1))\n",
    "with open(file, 'w', encoding='utf-8') as t:\n",
    "    t.write()"
   ]
  },
  {
   "cell_type": "code",
   "execution_count": null,
   "metadata": {},
   "outputs": [],
   "source": [
    "path = \".\" + os.sep + \"Vedaworld\" + os.sep + \"plain\"\n",
    "file = \"%s\\%s.txt\" % (path, str(1))\n",
    "with open(file, 'r', encoding='utf-8') as f:\n",
    "    f = f.read()\n",
    "text = clean(f)\n",
    "text = clean_lemmas(text)\n",
    "path = \".\" + os.sep + \"Vedaworld\" + os.sep + \"lemmatized\"\n",
    "file = \"%s\\%s.txt\" % (path, str(1))    \n",
    "with open(file, 'w', encoding='utf-8') as t:\n",
    "    t.write(''.join(text))"
   ]
  },
  {
   "cell_type": "code",
   "execution_count": null,
   "metadata": {},
   "outputs": [],
   "source": [
    "path = \".\" + os.sep + \"Vedaworld\" + os.sep + \"lemmatized\"\n",
    "file = \"%s\\%s.txt\" % (path, str(1))    \n",
    "with open(file, 'w', encoding='utf-8') as t:\n",
    "    t.write(''.join(test))"
   ]
  },
  {
   "cell_type": "code",
   "execution_count": 3,
   "metadata": {},
   "outputs": [],
   "source": [
    "SYMBS = \"1234567890,—[]↑№!\\\"\\'«»?.,;:|/\\+*{}<>@#$%-^& )(\"\n",
    "def clean(text):\n",
    "    words = []\n",
    "    clean_text = text.strip().lower().split()\n",
    "    for word in clean_text:\n",
    "\n",
    "        word_new = word.strip(SYMBS)\n",
    "        if word_new != '' and word_new != '–':\n",
    "            words.append(word_new)\n",
    "    return words"
   ]
  },
  {
   "cell_type": "code",
   "execution_count": 4,
   "metadata": {},
   "outputs": [],
   "source": [
    "def clean_lemmas(words):\n",
    "    text = ' '.join(words)\n",
    "    lemmas = m.lemmatize(text)\n",
    "    return lemmas"
   ]
  },
  {
   "cell_type": "code",
   "execution_count": 8,
   "metadata": {},
   "outputs": [],
   "source": [
    "test = clean('''0\n",
    "Особенно интересно как сахар отбеливают.\n",
    "\n",
    "1\n",
    "пивка надо\n",
    "\n",
    "2\n",
    "Копейц Почему же это допускают к столу?\n",
    "\n",
    "3\n",
    "Читаю и ем печенье😂\n",
    "''')"
   ]
  },
  {
   "cell_type": "code",
   "execution_count": 38,
   "metadata": {},
   "outputs": [
    {
     "ename": "TypeError",
     "evalue": "expected string or bytes-like object",
     "output_type": "error",
     "traceback": [
      "\u001b[1;31m---------------------------------------------------------------------------\u001b[0m",
      "\u001b[1;31mTypeError\u001b[0m                                 Traceback (most recent call last)",
      "\u001b[1;32m<ipython-input-38-493c21b1561a>\u001b[0m in \u001b[0;36m<module>\u001b[1;34m()\u001b[0m\n\u001b[0;32m      6\u001b[0m     \u001b[1;32mfor\u001b[0m \u001b[0mi\u001b[0m \u001b[1;32min\u001b[0m \u001b[0mrange\u001b[0m\u001b[1;33m(\u001b[0m\u001b[1;36m0\u001b[0m\u001b[1;33m,\u001b[0m \u001b[0mlen\u001b[0m\u001b[1;33m(\u001b[0m\u001b[0mtext\u001b[0m\u001b[1;33m)\u001b[0m\u001b[1;33m,\u001b[0m \u001b[1;36m3\u001b[0m\u001b[1;33m)\u001b[0m\u001b[1;33m:\u001b[0m\u001b[1;33m\u001b[0m\u001b[0m\n\u001b[0;32m      7\u001b[0m         \u001b[0mline\u001b[0m \u001b[1;33m=\u001b[0m \u001b[0mclean\u001b[0m\u001b[1;33m(\u001b[0m\u001b[0mtext\u001b[0m\u001b[1;33m[\u001b[0m\u001b[0mi\u001b[0m\u001b[1;33m]\u001b[0m\u001b[1;33m)\u001b[0m\u001b[1;33m\u001b[0m\u001b[0m\n\u001b[1;32m----> 8\u001b[1;33m         \u001b[0mre\u001b[0m\u001b[1;33m.\u001b[0m\u001b[0msub\u001b[0m\u001b[1;33m(\u001b[0m\u001b[1;34m'/\\uFE0F/'\u001b[0m\u001b[1;33m,\u001b[0m \u001b[1;34m''\u001b[0m\u001b[1;33m,\u001b[0m \u001b[0mline\u001b[0m\u001b[1;33m)\u001b[0m\u001b[1;33m\u001b[0m\u001b[0m\n\u001b[0m\u001b[0;32m      9\u001b[0m \u001b[1;33m\u001b[0m\u001b[0m\n\u001b[0;32m     10\u001b[0m         \u001b[0mline\u001b[0m \u001b[1;33m=\u001b[0m \u001b[0mclean_lemmas\u001b[0m\u001b[1;33m(\u001b[0m\u001b[0mline\u001b[0m\u001b[1;33m)\u001b[0m\u001b[1;33m\u001b[0m\u001b[0m\n",
      "\u001b[1;32m~\\Anaconda3\\lib\\re.py\u001b[0m in \u001b[0;36msub\u001b[1;34m(pattern, repl, string, count, flags)\u001b[0m\n\u001b[0;32m    189\u001b[0m     \u001b[0ma\u001b[0m \u001b[0mcallable\u001b[0m\u001b[1;33m,\u001b[0m \u001b[0mit\u001b[0m\u001b[0;31m'\u001b[0m\u001b[0ms\u001b[0m \u001b[0mpassed\u001b[0m \u001b[0mthe\u001b[0m \u001b[0mmatch\u001b[0m \u001b[0mobject\u001b[0m \u001b[1;32mand\u001b[0m \u001b[0mmust\u001b[0m \u001b[1;32mreturn\u001b[0m\u001b[1;33m\u001b[0m\u001b[0m\n\u001b[0;32m    190\u001b[0m     a replacement string to be used.\"\"\"\n\u001b[1;32m--> 191\u001b[1;33m     \u001b[1;32mreturn\u001b[0m \u001b[0m_compile\u001b[0m\u001b[1;33m(\u001b[0m\u001b[0mpattern\u001b[0m\u001b[1;33m,\u001b[0m \u001b[0mflags\u001b[0m\u001b[1;33m)\u001b[0m\u001b[1;33m.\u001b[0m\u001b[0msub\u001b[0m\u001b[1;33m(\u001b[0m\u001b[0mrepl\u001b[0m\u001b[1;33m,\u001b[0m \u001b[0mstring\u001b[0m\u001b[1;33m,\u001b[0m \u001b[0mcount\u001b[0m\u001b[1;33m)\u001b[0m\u001b[1;33m\u001b[0m\u001b[0m\n\u001b[0m\u001b[0;32m    192\u001b[0m \u001b[1;33m\u001b[0m\u001b[0m\n\u001b[0;32m    193\u001b[0m \u001b[1;32mdef\u001b[0m \u001b[0msubn\u001b[0m\u001b[1;33m(\u001b[0m\u001b[0mpattern\u001b[0m\u001b[1;33m,\u001b[0m \u001b[0mrepl\u001b[0m\u001b[1;33m,\u001b[0m \u001b[0mstring\u001b[0m\u001b[1;33m,\u001b[0m \u001b[0mcount\u001b[0m\u001b[1;33m=\u001b[0m\u001b[1;36m0\u001b[0m\u001b[1;33m,\u001b[0m \u001b[0mflags\u001b[0m\u001b[1;33m=\u001b[0m\u001b[1;36m0\u001b[0m\u001b[1;33m)\u001b[0m\u001b[1;33m:\u001b[0m\u001b[1;33m\u001b[0m\u001b[0m\n",
      "\u001b[1;31mTypeError\u001b[0m: expected string or bytes-like object"
     ]
    }
   ],
   "source": [
    "text = '''😁 какой цена в среднее на щенок такой собачка бедный мама весь ребенок уже видимо отбирать последний малыш оставаться мамка такой трогательный как мило и в тот же время больно смотреть на это неужели после это забирать последний щенок плохой человек зверь нет\n",
    "\n",
    "'''.split('\\n')\n",
    "new_text = []\n",
    "if len(text) > 1:\n",
    "    for i in range(0, len(text), 3):\n",
    "        line = clean(text[i])\n",
    "        re.sub('/\\uFE0F/', '', line)\n",
    "\n",
    "        line = clean_lemmas(line)\n",
    "        com_len = len(line)\n",
    "        line = ''.join(line)\n",
    "        new_text.append(line)\n",
    "else:\n",
    "    line = clean(text[0])\n",
    "    line = clean_lemmas(line)\n",
    "    new_text.append(line)"
   ]
  },
  {
   "cell_type": "code",
   "execution_count": 29,
   "metadata": {},
   "outputs": [
    {
     "data": {
      "text/plain": [
       "['😁 какой цена в средний на щенок такой собачка бедный мама весь ребенок уже видимо отбирать последний малыш оставаться мамка такой трогательный как мило и в тот же время больно смотреть на это неужели после это забирать последний щенок плохой человек зверь нет\\n']"
      ]
     },
     "execution_count": 29,
     "metadata": {},
     "output_type": "execute_result"
    }
   ],
   "source": [
    "com_len\n",
    "new_text"
   ]
  },
  {
   "cell_type": "code",
   "execution_count": 6,
   "metadata": {},
   "outputs": [],
   "source": [
    "test = clean_lemmas(test)"
   ]
  },
  {
   "cell_type": "code",
   "execution_count": 9,
   "metadata": {},
   "outputs": [
    {
     "data": {
      "text/plain": [
       "['особенно',\n",
       " 'интересно',\n",
       " 'как',\n",
       " 'сахар',\n",
       " 'отбеливают',\n",
       " 'пивка',\n",
       " 'надо',\n",
       " 'копейц',\n",
       " 'почему',\n",
       " 'же',\n",
       " 'это',\n",
       " 'допускают',\n",
       " 'к',\n",
       " 'столу',\n",
       " 'читаю',\n",
       " 'и',\n",
       " 'ем',\n",
       " 'печенье😂']"
      ]
     },
     "execution_count": 9,
     "metadata": {},
     "output_type": "execute_result"
    }
   ],
   "source": [
    "test"
   ]
  },
  {
   "cell_type": "code",
   "execution_count": null,
   "metadata": {},
   "outputs": [],
   "source": [
    "def commentsFiles():\n",
    "    conn = sqlite3.connect('Vedaworld Posts.db')\n",
    "    c = conn.cursor()\n",
    "    for row in c.execute(\"SELECT id FROM vedas\"):\n",
    "    post_id = row[0]\n",
    "    c.execute(\"SELECT comment_order, text FROM comments WHERE id=?\", post_id)\n"
   ]
  }
 ],
 "metadata": {
  "kernelspec": {
   "display_name": "Python 3",
   "language": "python",
   "name": "python3"
  },
  "language_info": {
   "codemirror_mode": {
    "name": "ipython",
    "version": 3
   },
   "file_extension": ".py",
   "mimetype": "text/x-python",
   "name": "python",
   "nbconvert_exporter": "python",
   "pygments_lexer": "ipython3",
   "version": "3.6.5"
  }
 },
 "nbformat": 4,
 "nbformat_minor": 2
}
