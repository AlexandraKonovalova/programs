{
 "cells": [
  {
   "cell_type": "code",
   "execution_count": 1,
   "metadata": {},
   "outputs": [],
   "source": [
    "import networkx as nx"
   ]
  },
  {
   "cell_type": "code",
   "execution_count": 2,
   "metadata": {},
   "outputs": [],
   "source": [
    "import matplotlib.pyplot as plt\n",
    "from matplotlib import style\n",
    "style.use('ggplot')"
   ]
  },
  {
   "cell_type": "code",
   "execution_count": 3,
   "metadata": {},
   "outputs": [],
   "source": [
    "with open('Gerald.txt', 'r', encoding='utf-8') as f:\n",
    "    text = f.read()"
   ]
  },
  {
   "cell_type": "code",
   "execution_count": 4,
   "metadata": {},
   "outputs": [],
   "source": [
    "SYMBS = \"1234567890,—[]↑№!\\\"\\'«»?.,;:|/\\+*{}<>@#$%-^& )(\""
   ]
  },
  {
   "cell_type": "code",
   "execution_count": 5,
   "metadata": {},
   "outputs": [],
   "source": [
    "def clean(text):\n",
    "    words = []\n",
    "    text = text.strip().lower().split()\n",
    "    for word in text:\n",
    "        if word:\n",
    "            words.append(word.strip(SYMBS))\n",
    "    return words"
   ]
  },
  {
   "cell_type": "code",
   "execution_count": 6,
   "metadata": {},
   "outputs": [],
   "source": [
    "words = clean(text)\n",
    "for i in words:\n",
    "    if i == '':\n",
    "        words.remove(i)"
   ]
  },
  {
   "cell_type": "code",
   "execution_count": 7,
   "metadata": {},
   "outputs": [
    {
     "name": "stdout",
     "output_type": "stream",
     "text": [
      "['ведьмак', 'последнее', 'желание', 'анджей', 'сапковский', 'ведьмак', 'книгой', 'последнее', 'желание', 'начинается', 'один', 'из', 'лучших', 'циклов', 'в', 'истории', 'жанра', 'фэнтези', 'семь', 'новелл']\n"
     ]
    }
   ],
   "source": [
    "print(words[:20])"
   ]
  },
  {
   "cell_type": "code",
   "execution_count": 8,
   "metadata": {},
   "outputs": [],
   "source": [
    "import pymorphy2"
   ]
  },
  {
   "cell_type": "code",
   "execution_count": 9,
   "metadata": {},
   "outputs": [],
   "source": [
    "morph = pymorphy2.MorphAnalyzer()"
   ]
  },
  {
   "cell_type": "code",
   "execution_count": 10,
   "metadata": {},
   "outputs": [],
   "source": [
    "tagged = []\n",
    "real_nouns = []\n",
    "for word in words:\n",
    "    p = morph.parse(word)[0]\n",
    "    if 'NOUN' in p.tag:\n",
    "        tagged.append(p.normal_form)\n",
    "        real_nouns.append(word)"
   ]
  },
  {
   "cell_type": "code",
   "execution_count": 11,
   "metadata": {},
   "outputs": [],
   "source": [
    "set_noun = set(tagged)"
   ]
  },
  {
   "cell_type": "code",
   "execution_count": 12,
   "metadata": {},
   "outputs": [],
   "source": [
    "G = nx.Graph()"
   ]
  },
  {
   "cell_type": "code",
   "execution_count": 13,
   "metadata": {},
   "outputs": [],
   "source": [
    "#G.add_nodes_from(set_noun, label=set_noun)"
   ]
  },
  {
   "cell_type": "code",
   "execution_count": 14,
   "metadata": {},
   "outputs": [],
   "source": [
    "weights = {}"
   ]
  },
  {
   "cell_type": "code",
   "execution_count": 15,
   "metadata": {},
   "outputs": [],
   "source": [
    "for i in range(len(words)):\n",
    "    if words[i] in real_nouns:\n",
    "        try:\n",
    "            if words[i+1] in real_nouns:\n",
    "                edge = tuple([morph.parse(words[i])[0].normal_form, morph.parse(words[i+1])[0].normal_form])\n",
    "                if not edge in weights:\n",
    "                    weights[edge] = 1\n",
    "                else:\n",
    "                    weights[edge] +=1\n",
    "        except IndexError:\n",
    "            continue\n",
    "            #G.add_edge(morph.parse(words[i])[0].normal_form, morph.parse(words[i+1])[0].normal_form)\n",
    "        try:\n",
    "            if words[i+2] in real_nouns:\n",
    "                edge = tuple([morph.parse(words[i])[0].normal_form, morph.parse(words[i+2])[0].normal_form])\n",
    "                if not edge in weights:\n",
    "                    weights[edge] = 1\n",
    "                else:\n",
    "                    weights[edge] +=1\n",
    "        except IndexError:\n",
    "            continue\n",
    "            #G.add_edge(morph.parse(words[i])[0].normal_form, morph.parse(words[i+2])[0].normal_form)\n",
    "        try:\n",
    "            if words[i+3] in real_nouns:\n",
    "                edge = tuple([morph.parse(words[i])[0].normal_form, morph.parse(words[i+3])[0].normal_form])\n",
    "                if not edge in weights:\n",
    "                    weights[edge] = 1\n",
    "                else:\n",
    "                    weights[edge] +=1\n",
    "        except IndexError:\n",
    "            continue\n",
    "            #G.add_edge(morph.parse(words[i])[0].normal_form, morph.parse(words[i+3])[0].normal_form)\n",
    "        try:\n",
    "            if words[i+4] in real_nouns:\n",
    "                edge = tuple([morph.parse(words[i])[0].normal_form, morph.parse(words[i+4])[0].normal_form])\n",
    "                if not edge in weights:\n",
    "                    weights[edge] = 1\n",
    "                else:\n",
    "                    weights[edge] += 1\n",
    "        except IndexError:\n",
    "            continue\n",
    "            #G.add_edge(morph.parse(words[i])[0].normal_form, morph.parse(words[i+4])[0].normal_form)\n",
    "        "
   ]
  },
  {
   "cell_type": "code",
   "execution_count": 21,
   "metadata": {},
   "outputs": [],
   "source": [
    "for edge, w in weights.items():\n",
    "    if w > 2:\n",
    "        G.add_edge(edge[0], edge[1], weight=w)"
   ]
  },
  {
   "cell_type": "code",
   "execution_count": 98,
   "metadata": {},
   "outputs": [],
   "source": [
    "nx.write_gexf(G, 'graph_Dubrovskiy.gexf')"
   ]
  },
  {
   "cell_type": "code",
   "execution_count": 22,
   "metadata": {},
   "outputs": [],
   "source": [
    "# scale - во сколько раз увеличить дефолтное расстояние между узлами\n",
    "# iterations — сколько итераций проходит алгоритм укладки (чем больше, тем сильнее \"расползется\" граф)\n",
    "pos=nx.spring_layout(G,scale=3, iterations=20)"
   ]
  },
  {
   "cell_type": "code",
   "execution_count": 23,
   "metadata": {},
   "outputs": [
    {
     "data": {
      "text/plain": [
       "EdgeView([('ведьмак', 'геральт'), ('ведьмак', 'велерада'), ('ведьмак', 'глаз'), ('ведьмак', 'желание'), ('ведьмак', 'человек'), ('ведьмак', 'фольтест'), ('ведьмак', 'лицо'), ('ведьмак', 'господин'), ('ведьмак', 'шея'), ('ведьмак', 'движение'), ('ведьмак', 'нивеллена'), ('ведьмак', 'губа'), ('геральт', 'голова'), ('геральт', 'упырица'), ('геральт', 'меч'), ('геральт', 'глаз'), ('геральт', 'нивеллена'), ('геральт', 'геральт'), ('геральт', 'рука'), ('геральт', 'клык'), ('геральт', 'морда'), ('меч', 'ножны'), ('меч', 'рука'), ('меч', 'рукоять'), ('меч', 'спина'), ('рука', 'голова'), ('рука', 'знак'), ('тысяча', 'орен'), ('третье', 'петух'), ('упырица', 'человек'), ('упырица', 'склеп'), ('вход', 'склеп'), ('храм', 'мелитэль'), ('мелитэль', 'культ'), ('крупица', 'истина'), ('чёрный', 'плащ'), ('спина', 'дельфин'), ('ремень', 'грудь'), ('спинка', 'стул'), ('время', 'время'), ('оружейник', 'женщина'), ('куст', 'роза'), ('чудище', 'лапа'), ('бел', 'платье'), ('конец', 'жердь')])"
      ]
     },
     "execution_count": 23,
     "metadata": {},
     "output_type": "execute_result"
    }
   ],
   "source": [
    "G.edges()"
   ]
  },
  {
   "cell_type": "code",
   "execution_count": 24,
   "metadata": {},
   "outputs": [
    {
     "data": {
      "image/png": "[encoded data removed]",
      "text/plain": [
       "<Figure size 1080x720 with 1 Axes>"
      ]
     },
     "metadata": {},
     "output_type": "display_data"
    }
   ],
   "source": [
    "plt.figure(figsize=(15,10))\n",
    "nx.draw_networkx_nodes(G, pos, node_color='red', node_size=50) # рисуем узлы красным цветом, задаём размер узла\n",
    "nx.draw_networkx_edges(G, pos, edge_color='yellow') # рисуем рёбра жёлтым\n",
    "nx.draw_networkx_labels(G, pos)\n",
    "plt.axis('off') # по умолчанию график будет снабжён осями с координатами, здесь они бессмысленны, так что отключаем\n",
    "plt.show() # что получилось?"
   ]
  },
  {
   "cell_type": "code",
   "execution_count": 19,
   "metadata": {},
   "outputs": [],
   "source": [
    "# Центральность узлов\n",
    "\n",
    "deg = nx.degree_centrality(G)\n",
    "for nodeid in sorted(deg, key=deg.get, reverse=True):\n",
    "    print(nodeid)"
   ]
  },
  {
   "cell_type": "code",
   "execution_count": 20,
   "metadata": {},
   "outputs": [
    {
     "name": "stdout",
     "output_type": "stream",
     "text": [
      "кирил\n",
      "пётр\n",
      "андрей\n",
      "год\n",
      "троекур\n",
      "день\n",
      "генерал-аншеф\n",
      "сын\n",
      "душа\n",
      "князь\n",
      "троекуров\n",
      "имение\n",
      "батюшка\n",
      "исправник\n",
      "барин\n",
      "время\n",
      "гость\n",
      "владение\n",
      "суд\n",
      "петров\n",
      "владимир\n",
      "имя\n",
      "друг\n",
      "двор\n",
      "письмо\n",
      "сельцо\n",
      "удовольствие\n",
      "гвардия\n",
      "поручик\n",
      "земля\n",
      "угодье\n",
      "спицын\n",
      "отец\n",
      "человек\n",
      "маша\n",
      "дверь\n",
      "слово\n",
      "голос\n",
      "гаврило\n",
      "часы\n",
      "утро\n",
      "хозяин\n",
      "бумага\n",
      "кистеневка\n",
      "неудовольствие\n",
      "мужеска\n",
      "прошение\n",
      "август\n",
      "канцелярист\n",
      "смерть\n",
      "советник\n",
      "соболев\n",
      "молодая\n",
      "приезд\n",
      "гром\n",
      "победа\n",
      "учитель\n",
      "марья\n",
      "карман\n",
      "пистолет\n",
      "объяснение\n",
      "марь\n",
      "дама\n",
      "антон\n",
      "пафнутьй\n",
      "господин\n",
      "тарас\n",
      "алексей\n",
      "превосходительство\n",
      "смотритель\n",
      "слуга\n",
      "зал\n",
      "комната\n",
      "верейский\n",
      "слава\n",
      "бог\n",
      "амфитрион\n",
      "царь\n",
      "жена\n",
      "кольцо\n",
      "дупло\n",
      "рыжий\n",
      "мальчик\n",
      "солдат\n",
      "леса\n",
      "Коэффициент ассортативности: -0.21367071682931277\n",
      "Плотность графа: 0.02857142857142857\n"
     ]
    }
   ],
   "source": [
    "# Коэффициент ассортативности (насколько вся сеть завязана на основных \"хабах\"):\n",
    "print('Коэффициент ассортативности: {}'.format(nx.degree_pearson_correlation_coefficient(G)))\n",
    "\n",
    "# Плотность графа, отношение рёбер и узлов\n",
    "print('Плотность графа: {}'.format(nx.density(G)))"
   ]
  },
  {
   "cell_type": "code",
   "execution_count": null,
   "metadata": {},
   "outputs": [],
   "source": []
  }
 ],
 "metadata": {
  "kernelspec": {
   "display_name": "Python 3",
   "language": "python",
   "name": "python3"
  },
  "language_info": {
   "codemirror_mode": {
    "name": "ipython",
    "version": 3
   },
   "file_extension": ".py",
   "mimetype": "text/x-python",
   "name": "python",
   "nbconvert_exporter": "python",
   "pygments_lexer": "ipython3",
   "version": "3.6.5"
  }
 },
 "nbformat": 4,
 "nbformat_minor": 2
}
